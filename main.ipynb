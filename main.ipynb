{
 "cells": [
  {
   "cell_type": "code",
   "execution_count": 384,
   "metadata": {
    "ExecuteTime": {
     "end_time": "2020-04-28T19:37:38.613016Z",
     "start_time": "2020-04-28T19:37:38.609616Z"
    }
   },
   "outputs": [],
   "source": [
    "import matplotlib.pyplot as plt\n",
    "import numpy\n",
    "import pandas as pd"
   ]
  },
  {
   "cell_type": "markdown",
   "metadata": {
    "heading_collapsed": true
   },
   "source": [
    "# Задание "
   ]
  },
  {
   "cell_type": "markdown",
   "metadata": {
    "hidden": true
   },
   "source": [
    "## Аналіз вибірки та вибір регресійної моделі"
   ]
  },
  {
   "cell_type": "code",
   "execution_count": 385,
   "metadata": {
    "ExecuteTime": {
     "end_time": "2020-04-28T19:37:38.873067Z",
     "start_time": "2020-04-28T19:37:38.866135Z"
    },
    "hidden": true
   },
   "outputs": [],
   "source": [
    "task1_data = pd.DataFrame({'Y' : [18, 28, 7.4, 32, 40, 60, 51, 33, 77, 34,\n",
    "                           72, 48, 30, 77, 39, 52, 46, 66, 27, 75, 59, 32, 50, 52, 40]}, index=[i for i in range(1, 26)])\n",
    "task1_data\n",
    "n = 25\n",
    "m = 3"
   ]
  },
  {
   "cell_type": "code",
   "execution_count": 386,
   "metadata": {
    "ExecuteTime": {
     "end_time": "2020-04-28T19:37:39.763341Z",
     "start_time": "2020-04-28T19:37:38.875956Z"
    },
    "hidden": true
   },
   "outputs": [
    {
     "data": {
      "image/png": "[encoded data removed]",
      "text/plain": [
       "<Figure size 432x288 with 1 Axes>"
      ]
     },
     "metadata": {
      "needs_background": "light"
     },
     "output_type": "display_data"
    }
   ],
   "source": [
    "plt.plot(task1_data, 'bo')\n",
    "plt.plot(task1_data, 'b')\n",
    "plt.axis([0, 26, 5, 80])\n",
    "plt.xticks(np.arange(0, 26, 1))\n",
    "plt.yticks(np.arange(0, 85, 5))\n",
    "plt.xlabel('X')\n",
    "plt.ylabel('Y')\n",
    "plt.grid(True)\n",
    "plt.savefig('./pictures/task1_data.png', dpi=300)"
   ]
  },
  {
   "cell_type": "markdown",
   "metadata": {
    "hidden": true
   },
   "source": [
    "За розташуванням значень відкликів на площині стає зрозуміло, що залежність є нелінійна і схожа на квадратичну $\\Rightarrow$ розглянемо модель $f(x) = \\beta_0 + \\beta_1 x + \\beta_2 x^2$"
   ]
  },
  {
   "cell_type": "markdown",
   "metadata": {
    "hidden": true
   },
   "source": [
    "## За МНК знайти оцінки параметрів вибраної моделі"
   ]
  },
  {
   "cell_type": "markdown",
   "metadata": {
    "ExecuteTime": {
     "end_time": "2020-04-26T10:05:32.004527Z",
     "start_time": "2020-04-26T10:05:31.998527Z"
    },
    "hidden": true
   },
   "source": [
    "Матриця плану для вибраної моделі матиме вигляд:\n",
    "\\begin{equation}\\label{eq:}\n",
    "    F = \n",
    "    \\begin{pmatrix}\n",
    "        1 & 1 & \\dots & 1 \\\\\n",
    "        1 & 2 & \\dots & 25 \\\\\n",
    "        1^2 & 2^2 & \\dots & 25^2 \\\\\n",
    "    \\end{pmatrix}^T\n",
    "\\end{equation}\n"
   ]
  },
  {
   "cell_type": "code",
   "execution_count": 387,
   "metadata": {
    "ExecuteTime": {
     "end_time": "2020-04-28T19:37:39.772568Z",
     "start_time": "2020-04-28T19:37:39.766455Z"
    },
    "hidden": true
   },
   "outputs": [
    {
     "data": {
      "text/plain": [
       "array([[  1,   1,   1],\n",
       "       [  1,   2,   4],\n",
       "       [  1,   3,   9],\n",
       "       [  1,   4,  16],\n",
       "       [  1,   5,  25],\n",
       "       [  1,   6,  36],\n",
       "       [  1,   7,  49],\n",
       "       [  1,   8,  64],\n",
       "       [  1,   9,  81],\n",
       "       [  1,  10, 100],\n",
       "       [  1,  11, 121],\n",
       "       [  1,  12, 144],\n",
       "       [  1,  13, 169],\n",
       "       [  1,  14, 196],\n",
       "       [  1,  15, 225],\n",
       "       [  1,  16, 256],\n",
       "       [  1,  17, 289],\n",
       "       [  1,  18, 324],\n",
       "       [  1,  19, 361],\n",
       "       [  1,  20, 400],\n",
       "       [  1,  21, 441],\n",
       "       [  1,  22, 484],\n",
       "       [  1,  23, 529],\n",
       "       [  1,  24, 576],\n",
       "       [  1,  25, 625]])"
      ]
     },
     "execution_count": 387,
     "metadata": {},
     "output_type": "execute_result"
    }
   ],
   "source": [
    "F_1 = np.array([[1 for i in range(1, 26)], [i for i in range(1, 26)], [\n",
    "             i**2 for i in range(1, 26)]]).transpose()\n",
    "F_1"
   ]
  },
  {
   "cell_type": "markdown",
   "metadata": {
    "hidden": true
   },
   "source": [
    "Далі обчислимо інформаційну матрицю Фішера $A = F^T F$ та дисперсійну матрицю Фішера $A^{-1}$:"
   ]
  },
  {
   "cell_type": "code",
   "execution_count": 388,
   "metadata": {
    "ExecuteTime": {
     "end_time": "2020-04-28T19:37:39.887490Z",
     "start_time": "2020-04-28T19:37:39.775215Z"
    },
    "hidden": true
   },
   "outputs": [
    {
     "data": {
      "text/plain": [
       "array([[     25,     325,    5525],\n",
       "       [    325,    5525,  105625],\n",
       "       [   5525,  105625, 2153645]])"
      ]
     },
     "execution_count": 388,
     "metadata": {},
     "output_type": "execute_result"
    }
   ],
   "source": [
    "A_1 = F_1.transpose() @ F_1\n",
    "A_1"
   ]
  },
  {
   "cell_type": "code",
   "execution_count": 389,
   "metadata": {
    "ExecuteTime": {
     "end_time": "2020-04-28T19:37:40.004043Z",
     "start_time": "2020-04-28T19:37:39.890322Z"
    },
    "hidden": true
   },
   "outputs": [
    {
     "data": {
      "text/plain": [
       "array([[ 4.24347826e-01, -6.65217391e-02,  2.17391304e-03],\n",
       "       [-6.65217391e-02,  1.33296172e-02, -4.83091787e-04],\n",
       "       [ 2.17391304e-03, -4.83091787e-04,  1.85804534e-05]])"
      ]
     },
     "execution_count": 389,
     "metadata": {},
     "output_type": "execute_result"
    }
   ],
   "source": [
    "A_1_inv = np.linalg.inv(A_1)\n",
    "A_1_inv"
   ]
  },
  {
   "cell_type": "code",
   "execution_count": 390,
   "metadata": {
    "ExecuteTime": {
     "end_time": "2020-04-28T19:37:40.087455Z",
     "start_time": "2020-04-28T19:37:40.006529Z"
    },
    "hidden": true
   },
   "outputs": [
    {
     "data": {
      "text/plain": [
       "array([[18. ],\n",
       "       [28. ],\n",
       "       [ 7.4],\n",
       "       [32. ],\n",
       "       [40. ],\n",
       "       [60. ],\n",
       "       [51. ],\n",
       "       [33. ],\n",
       "       [77. ],\n",
       "       [34. ],\n",
       "       [72. ],\n",
       "       [48. ],\n",
       "       [30. ],\n",
       "       [77. ],\n",
       "       [39. ],\n",
       "       [52. ],\n",
       "       [46. ],\n",
       "       [66. ],\n",
       "       [27. ],\n",
       "       [75. ],\n",
       "       [59. ],\n",
       "       [32. ],\n",
       "       [50. ],\n",
       "       [52. ],\n",
       "       [40. ]])"
      ]
     },
     "execution_count": 390,
     "metadata": {},
     "output_type": "execute_result"
    }
   ],
   "source": [
    "mu_1_vals = task1_data['Y'].to_numpy()\n",
    "mu_1_vals.shape = (-1, 1)\n",
    "mu_1_vals"
   ]
  },
  {
   "cell_type": "code",
   "execution_count": 391,
   "metadata": {
    "ExecuteTime": {
     "end_time": "2020-04-28T19:37:40.191191Z",
     "start_time": "2020-04-28T19:37:40.091393Z"
    },
    "hidden": true
   },
   "outputs": [
    {
     "data": {
      "text/plain": [
       "array([[14.87078261],\n",
       "       [ 5.24209959],\n",
       "       [-0.16833519]])"
      ]
     },
     "execution_count": 391,
     "metadata": {},
     "output_type": "execute_result"
    }
   ],
   "source": [
    "beta_1_estim = A_1_inv @ F_1.transpose() @ mu_1_vals\n",
    "beta_1_estim"
   ]
  },
  {
   "cell_type": "code",
   "execution_count": 392,
   "metadata": {
    "ExecuteTime": {
     "end_time": "2020-04-28T19:37:40.285735Z",
     "start_time": "2020-04-28T19:37:40.193551Z"
    },
    "hidden": true
   },
   "outputs": [],
   "source": [
    "def regres_t1(x):\n",
    "    return beta_1_estim[0, 0] + beta_1_estim[1, 0] * x + beta_1_estim[2, 0] * x**2"
   ]
  },
  {
   "cell_type": "markdown",
   "metadata": {
    "hidden": true
   },
   "source": [
    "## Перевірка адекватності побудованої моделі"
   ]
  },
  {
   "cell_type": "markdown",
   "metadata": {
    "hidden": true
   },
   "source": [
    "\\begin{equation}\n",
    "    (\\sigma^2)^{**} = \\frac{1}{n-m} ||\\vec{\\eta} - F\\vec{\\beta}^*||^2\n",
    "\\end{equation}\n",
    "\n",
    "\\begin{equation}\n",
    "    D^{**}_{\\eta} = \\frac{1}{n-1}\\sum_{i=1}^n (\\eta_i - \\overline{\\eta})^2\n",
    "\\end{equation}\n"
   ]
  },
  {
   "cell_type": "code",
   "execution_count": 393,
   "metadata": {
    "ExecuteTime": {
     "end_time": "2020-04-28T19:37:40.413875Z",
     "start_time": "2020-04-28T19:37:40.288919Z"
    },
    "hidden": true
   },
   "outputs": [
    {
     "data": {
      "text/plain": [
       "3.4803084612152233"
      ]
     },
     "execution_count": 393,
     "metadata": {},
     "output_type": "execute_result"
    }
   ],
   "source": [
    "# (2)\n",
    "sigma_1 = (1/(n-m)) * np.linalg.norm(mu_1_vals - F_1 @ beta_1_estim)\n",
    "sigma_1"
   ]
  },
  {
   "cell_type": "code",
   "execution_count": 394,
   "metadata": {
    "ExecuteTime": {
     "end_time": "2020-04-28T19:37:40.497761Z",
     "start_time": "2020-04-28T19:37:40.415988Z"
    },
    "hidden": true
   },
   "outputs": [
    {
     "data": {
      "text/plain": [
       "348.3797333333334"
      ]
     },
     "execution_count": 394,
     "metadata": {},
     "output_type": "execute_result"
    }
   ],
   "source": [
    "# (3)\n",
    "D_1 = (n/(n-1))*mu_1_vals.var()\n",
    "D_1"
   ]
  },
  {
   "cell_type": "code",
   "execution_count": 395,
   "metadata": {
    "ExecuteTime": {
     "end_time": "2020-04-28T19:37:40.591760Z",
     "start_time": "2020-04-28T19:37:40.500608Z"
    },
    "hidden": true
   },
   "outputs": [
    {
     "data": {
      "text/plain": [
       "100.10024606028433"
      ]
     },
     "execution_count": 395,
     "metadata": {},
     "output_type": "execute_result"
    }
   ],
   "source": [
    "gamma_adeq_1 = D_1 / sigma_1\n",
    "gamma_adeq_1"
   ]
  },
  {
   "cell_type": "markdown",
   "metadata": {
    "hidden": true
   },
   "source": [
    "## Значущість найменшого параметру"
   ]
  },
  {
   "cell_type": "code",
   "execution_count": 418,
   "metadata": {
    "ExecuteTime": {
     "end_time": "2020-04-28T21:53:55.924992Z",
     "start_time": "2020-04-28T21:53:55.919217Z"
    },
    "hidden": true
   },
   "outputs": [
    {
     "data": {
      "text/plain": [
       "-20.933309526336764"
      ]
     },
     "execution_count": 418,
     "metadata": {},
     "output_type": "execute_result"
    }
   ],
   "source": [
    "gamma_rel_1 = beta_1_estim[2, 0] / (np.sqrt(sigma_1 * A_1_inv[2, 2]))\n",
    "gamma_rel_1"
   ]
  },
  {
   "cell_type": "markdown",
   "metadata": {
    "hidden": true
   },
   "source": [
    "## Висновки"
   ]
  },
  {
   "cell_type": "code",
   "execution_count": 396,
   "metadata": {
    "ExecuteTime": {
     "end_time": "2020-04-28T19:37:41.692603Z",
     "start_time": "2020-04-28T19:37:40.593981Z"
    },
    "hidden": true
   },
   "outputs": [
    {
     "data": {
      "image/png": "[encoded data removed]",
      "text/plain": [
       "<Figure size 432x288 with 1 Axes>"
      ]
     },
     "metadata": {
      "needs_background": "light"
     },
     "output_type": "display_data"
    }
   ],
   "source": [
    "plt.plot(task1_data, 'bo')\n",
    "plt.plot(task1_data, 'b')\n",
    "plt.axis([0, 26, 5, 80])\n",
    "t = np.arange(0, 26, 0.01)\n",
    "plt.plot(t, [regres_t1(i) for i in t], 'g')\n",
    "plt.xticks(np.arange(0, 27, 1))\n",
    "plt.yticks(np.arange(0, 85, 5))\n",
    "plt.xlabel('X')\n",
    "plt.ylabel('Y')\n",
    "plt.grid(True)\n",
    "plt.savefig('./pictures/task1_fin.png', dpi=300)"
   ]
  },
  {
   "cell_type": "markdown",
   "metadata": {
    "ExecuteTime": {
     "end_time": "2020-04-25T22:03:51.260777Z",
     "start_time": "2020-04-25T22:03:51.257882Z"
    }
   },
   "source": [
    "# Задание "
   ]
  },
  {
   "cell_type": "markdown",
   "metadata": {
    "ExecuteTime": {
     "end_time": "2020-04-25T22:04:20.572721Z",
     "start_time": "2020-04-25T22:04:20.569751Z"
    },
    "heading_collapsed": true
   },
   "source": [
    "## Аналіз вибірки та вибір регресійної моделі"
   ]
  },
  {
   "cell_type": "code",
   "execution_count": 397,
   "metadata": {
    "ExecuteTime": {
     "end_time": "2020-04-28T19:37:41.719341Z",
     "start_time": "2020-04-28T19:37:41.697251Z"
    },
    "hidden": true
   },
   "outputs": [
    {
     "data": {
      "text/html": [
       "<div>\n",
       "<style scoped>\n",
       "    .dataframe tbody tr th:only-of-type {\n",
       "        vertical-align: middle;\n",
       "    }\n",
       "\n",
       "    .dataframe tbody tr th {\n",
       "        vertical-align: top;\n",
       "    }\n",
       "\n",
       "    .dataframe thead th {\n",
       "        text-align: right;\n",
       "    }\n",
       "</style>\n",
       "<table border=\"1\" class=\"dataframe\">\n",
       "  <thead>\n",
       "    <tr style=\"text-align: right;\">\n",
       "      <th></th>\n",
       "      <th>X1</th>\n",
       "      <th>X2</th>\n",
       "      <th>Y</th>\n",
       "    </tr>\n",
       "  </thead>\n",
       "  <tbody>\n",
       "    <tr>\n",
       "      <th>0</th>\n",
       "      <td>1</td>\n",
       "      <td>8</td>\n",
       "      <td>6</td>\n",
       "    </tr>\n",
       "    <tr>\n",
       "      <th>1</th>\n",
       "      <td>4</td>\n",
       "      <td>2</td>\n",
       "      <td>8</td>\n",
       "    </tr>\n",
       "    <tr>\n",
       "      <th>2</th>\n",
       "      <td>9</td>\n",
       "      <td>-8</td>\n",
       "      <td>1</td>\n",
       "    </tr>\n",
       "    <tr>\n",
       "      <th>3</th>\n",
       "      <td>11</td>\n",
       "      <td>-10</td>\n",
       "      <td>0</td>\n",
       "    </tr>\n",
       "    <tr>\n",
       "      <th>4</th>\n",
       "      <td>3</td>\n",
       "      <td>6</td>\n",
       "      <td>5</td>\n",
       "    </tr>\n",
       "    <tr>\n",
       "      <th>5</th>\n",
       "      <td>8</td>\n",
       "      <td>-6</td>\n",
       "      <td>3</td>\n",
       "    </tr>\n",
       "    <tr>\n",
       "      <th>6</th>\n",
       "      <td>5</td>\n",
       "      <td>0</td>\n",
       "      <td>2</td>\n",
       "    </tr>\n",
       "    <tr>\n",
       "      <th>7</th>\n",
       "      <td>10</td>\n",
       "      <td>-12</td>\n",
       "      <td>-4</td>\n",
       "    </tr>\n",
       "    <tr>\n",
       "      <th>8</th>\n",
       "      <td>2</td>\n",
       "      <td>4</td>\n",
       "      <td>10</td>\n",
       "    </tr>\n",
       "    <tr>\n",
       "      <th>9</th>\n",
       "      <td>7</td>\n",
       "      <td>-2</td>\n",
       "      <td>-3</td>\n",
       "    </tr>\n",
       "    <tr>\n",
       "      <th>10</th>\n",
       "      <td>6</td>\n",
       "      <td>-4</td>\n",
       "      <td>5</td>\n",
       "    </tr>\n",
       "  </tbody>\n",
       "</table>\n",
       "</div>"
      ],
      "text/plain": [
       "    X1  X2   Y\n",
       "0    1   8   6\n",
       "1    4   2   8\n",
       "2    9  -8   1\n",
       "3   11 -10   0\n",
       "4    3   6   5\n",
       "5    8  -6   3\n",
       "6    5   0   2\n",
       "7   10 -12  -4\n",
       "8    2   4  10\n",
       "9    7  -2  -3\n",
       "10   6  -4   5"
      ]
     },
     "execution_count": 397,
     "metadata": {},
     "output_type": "execute_result"
    }
   ],
   "source": [
    "task2_data = pd.DataFrame({'X1': [1, 4, 9, 11, 3, 8, 5, 10, 2, 7, 6],\n",
    "                           'X2': [8, 2, -8, -10, 6, -6, 0, -12, 4, -2, -4],\n",
    "                           'Y': [6, 8, 1, 0, 5, 3, 2, -4, 10, -3, 5]})\n",
    "task2_data"
   ]
  },
  {
   "cell_type": "code",
   "execution_count": 398,
   "metadata": {
    "ExecuteTime": {
     "end_time": "2020-04-28T19:37:42.033678Z",
     "start_time": "2020-04-28T19:37:41.727683Z"
    },
    "hidden": true
   },
   "outputs": [
    {
     "data": {
      "image/png": "[encoded data removed]",
      "text/plain": [
       "<Figure size 432x288 with 1 Axes>"
      ]
     },
     "metadata": {
      "needs_background": "light"
     },
     "output_type": "display_data"
    }
   ],
   "source": [
    "fig = plt.figure()\n",
    "ax = plt.axes(projection='3d')\n",
    "ax.scatter3D(task2_data['X1'].to_numpy(), task2_data['X2'].to_numpy(), task2_data['Y'].to_numpy(), c=\"b\")\n",
    "ax.set_xlabel('X1')\n",
    "ax.set_ylabel('X2')\n",
    "ax.set_zlabel('Y')\n",
    "ax.view_init(elev=30, azim = 10)\n",
    "ax.set_xticks([0, 2, 4, 6, 8, 10])\n",
    "ax.set_yticks([-10, -5, 0, 5, 10])\n",
    "ax.set_zticks([-4, -2, 0, 2, 4, 6, 8, 10])\n",
    "plt.show()"
   ]
  },
  {
   "cell_type": "markdown",
   "metadata": {},
   "source": [
    "## За МНК знайти оцінки параметрів вибраної моделі"
   ]
  },
  {
   "cell_type": "markdown",
   "metadata": {},
   "source": [
    "Розглянемо просту регрессійну модель $f(x_1, x_2) = \\beta_0 + \\beta_1x_1+ \\beta_2x_2$.\n",
    "Матриця плану матиме вигляд:\n",
    "\\begin{equation}\n",
    "F = \n",
    "\\begin{pmatrix}\n",
    "        1 & 1 & 1 & \\dots & 1 \\\\\n",
    "        1 & 4 & 9 & \\dots & 6 \\\\\n",
    "        8 & 2 & -8 & \\dots & -4 \\\\\n",
    "    \\end{pmatrix}^T\n",
    "\\end{equation}"
   ]
  },
  {
   "cell_type": "code",
   "execution_count": 399,
   "metadata": {
    "ExecuteTime": {
     "end_time": "2020-04-28T19:37:42.044926Z",
     "start_time": "2020-04-28T19:37:42.037334Z"
    }
   },
   "outputs": [
    {
     "data": {
      "text/plain": [
       "array([[  1.,   1.,   8.],\n",
       "       [  1.,   4.,   2.],\n",
       "       [  1.,   9.,  -8.],\n",
       "       [  1.,  11., -10.],\n",
       "       [  1.,   3.,   6.],\n",
       "       [  1.,   8.,  -6.],\n",
       "       [  1.,   5.,   0.],\n",
       "       [  1.,  10., -12.],\n",
       "       [  1.,   2.,   4.],\n",
       "       [  1.,   7.,  -2.],\n",
       "       [  1.,   6.,  -4.]])"
      ]
     },
     "execution_count": 399,
     "metadata": {},
     "output_type": "execute_result"
    }
   ],
   "source": [
    "F_2 = np.vstack([np.ones(11), task2_data['X1'].to_numpy(),\n",
    "                 task2_data['X2'].to_numpy()]).transpose()\n",
    "F_2"
   ]
  },
  {
   "cell_type": "code",
   "execution_count": 400,
   "metadata": {
    "ExecuteTime": {
     "end_time": "2020-04-28T19:37:42.143523Z",
     "start_time": "2020-04-28T19:37:42.047219Z"
    }
   },
   "outputs": [
    {
     "data": {
      "text/plain": [
       "array([[  11.,   66.,  -22.],\n",
       "       [  66.,  506., -346.],\n",
       "       [ -22., -346.,  484.]])"
      ]
     },
     "execution_count": 400,
     "metadata": {},
     "output_type": "execute_result"
    }
   ],
   "source": [
    "A_2 = F_2.transpose() @ F_2\n",
    "A_2"
   ]
  },
  {
   "cell_type": "code",
   "execution_count": 401,
   "metadata": {
    "ExecuteTime": {
     "end_time": "2020-04-28T19:37:42.222502Z",
     "start_time": "2020-04-28T19:37:42.146250Z"
    }
   },
   "outputs": [
    {
     "data": {
      "text/plain": [
       "array([[ 4.37047898, -0.84946237, -0.40860215],\n",
       "       [-0.84946237,  0.16897081,  0.08218126],\n",
       "       [-0.40860215,  0.08218126,  0.0422427 ]])"
      ]
     },
     "execution_count": 401,
     "metadata": {},
     "output_type": "execute_result"
    }
   ],
   "source": [
    "A_2_inv = np.linalg.inv(A_2)\n",
    "A_2_inv"
   ]
  },
  {
   "cell_type": "code",
   "execution_count": 402,
   "metadata": {
    "ExecuteTime": {
     "end_time": "2020-04-28T19:37:42.339706Z",
     "start_time": "2020-04-28T19:37:42.225318Z"
    }
   },
   "outputs": [
    {
     "data": {
      "text/plain": [
       "array([[ 6],\n",
       "       [ 8],\n",
       "       [ 1],\n",
       "       [ 0],\n",
       "       [ 5],\n",
       "       [ 3],\n",
       "       [ 2],\n",
       "       [-4],\n",
       "       [10],\n",
       "       [-3],\n",
       "       [ 5]])"
      ]
     },
     "execution_count": 402,
     "metadata": {},
     "output_type": "execute_result"
    }
   ],
   "source": [
    "mu_2_vals = task2_data['Y'].to_numpy()\n",
    "mu_2_vals.shape = (11, 1)\n",
    "mu_2_vals"
   ]
  },
  {
   "cell_type": "code",
   "execution_count": 403,
   "metadata": {
    "ExecuteTime": {
     "end_time": "2020-04-28T19:37:42.427145Z",
     "start_time": "2020-04-28T19:37:42.342980Z"
    }
   },
   "outputs": [
    {
     "data": {
      "text/plain": [
       "array([[14. ],\n",
       "       [-2. ],\n",
       "       [-0.5]])"
      ]
     },
     "execution_count": 403,
     "metadata": {},
     "output_type": "execute_result"
    }
   ],
   "source": [
    "beta_2_estim = A_2_inv @ F_2.transpose() @ mu_2_vals\n",
    "beta_2_estim"
   ]
  },
  {
   "cell_type": "code",
   "execution_count": 404,
   "metadata": {
    "ExecuteTime": {
     "end_time": "2020-04-28T19:37:42.636811Z",
     "start_time": "2020-04-28T19:37:42.429947Z"
    }
   },
   "outputs": [],
   "source": [
    "def regres_t2(x1, x2):\n",
    "    return 14 - (2 * x1) - (0.5 * x2)"
   ]
  },
  {
   "cell_type": "markdown",
   "metadata": {
    "ExecuteTime": {
     "end_time": "2020-04-27T10:56:36.907659Z",
     "start_time": "2020-04-27T10:56:36.904277Z"
    },
    "heading_collapsed": true
   },
   "source": [
    "## Висновки"
   ]
  },
  {
   "cell_type": "code",
   "execution_count": 405,
   "metadata": {
    "ExecuteTime": {
     "end_time": "2020-04-28T19:37:43.373643Z",
     "start_time": "2020-04-28T19:37:42.638932Z"
    },
    "hidden": true
   },
   "outputs": [
    {
     "data": {
      "image/png": "[encoded data removed]",
      "text/plain": [
       "<Figure size 432x288 with 1 Axes>"
      ]
     },
     "metadata": {
      "needs_background": "light"
     },
     "output_type": "display_data"
    }
   ],
   "source": [
    "X1 = np.arange(0, 10, 0.1)\n",
    "X2 = np.arange(-15, 10, 0.1)\n",
    "X1, X2 = np.meshgrid(X1, X2)\n",
    "Y = regres_t2(X1, X2)\n",
    "fig = plt.figure()\n",
    "ax = fig.add_subplot(projection='3d')\n",
    "ax.scatter3D(task2_data['X1'].to_numpy(), task2_data['X2'].to_numpy(), task2_data['Y'].to_numpy(), c=\"yellow\")\n",
    "ax.plot_surface(X1, X2, Y, color='b')\n",
    "ax.set_xlabel('X1')\n",
    "ax.set_ylabel('X2')\n",
    "ax.set_zlabel('Y')\n",
    "ax.view_init(elev=30, azim = 10)\n",
    "ax.set_xticks([-4, 0, 4, 8])\n",
    "ax.set_yticks([-15, -10, -5, 0, 5, 10])\n",
    "ax.set_zticks([-8, 0, 8, 16])\n",
    "plt.show()"
   ]
  },
  {
   "cell_type": "markdown",
   "metadata": {
    "heading_collapsed": true
   },
   "source": [
    "# Задание"
   ]
  },
  {
   "cell_type": "markdown",
   "metadata": {
    "hidden": true
   },
   "source": [
    "## Аналіз вибірки та вибір регресійної моделі"
   ]
  },
  {
   "cell_type": "code",
   "execution_count": 406,
   "metadata": {
    "ExecuteTime": {
     "end_time": "2020-04-28T19:37:43.403777Z",
     "start_time": "2020-04-28T19:37:43.375627Z"
    },
    "hidden": true
   },
   "outputs": [
    {
     "data": {
      "text/html": [
       "<div>\n",
       "<style scoped>\n",
       "    .dataframe tbody tr th:only-of-type {\n",
       "        vertical-align: middle;\n",
       "    }\n",
       "\n",
       "    .dataframe tbody tr th {\n",
       "        vertical-align: top;\n",
       "    }\n",
       "\n",
       "    .dataframe thead th {\n",
       "        text-align: right;\n",
       "    }\n",
       "</style>\n",
       "<table border=\"1\" class=\"dataframe\">\n",
       "  <thead>\n",
       "    <tr style=\"text-align: right;\">\n",
       "      <th></th>\n",
       "      <th>X1</th>\n",
       "      <th>X2</th>\n",
       "      <th>X3</th>\n",
       "      <th>Y</th>\n",
       "    </tr>\n",
       "  </thead>\n",
       "  <tbody>\n",
       "    <tr>\n",
       "      <th>1</th>\n",
       "      <td>173.50</td>\n",
       "      <td>83.00</td>\n",
       "      <td>22.0</td>\n",
       "      <td>169.91</td>\n",
       "    </tr>\n",
       "    <tr>\n",
       "      <th>2</th>\n",
       "      <td>194.05</td>\n",
       "      <td>74.25</td>\n",
       "      <td>48.0</td>\n",
       "      <td>138.22</td>\n",
       "    </tr>\n",
       "    <tr>\n",
       "      <th>3</th>\n",
       "      <td>209.37</td>\n",
       "      <td>65.00</td>\n",
       "      <td>56.0</td>\n",
       "      <td>69.01</td>\n",
       "    </tr>\n",
       "    <tr>\n",
       "      <th>4</th>\n",
       "      <td>221.52</td>\n",
       "      <td>56.25</td>\n",
       "      <td>81.0</td>\n",
       "      <td>72.50</td>\n",
       "    </tr>\n",
       "    <tr>\n",
       "      <th>5</th>\n",
       "      <td>231.49</td>\n",
       "      <td>45.00</td>\n",
       "      <td>89.0</td>\n",
       "      <td>40.83</td>\n",
       "    </tr>\n",
       "    <tr>\n",
       "      <th>6</th>\n",
       "      <td>239.88</td>\n",
       "      <td>38.25</td>\n",
       "      <td>100.0</td>\n",
       "      <td>96.49</td>\n",
       "    </tr>\n",
       "    <tr>\n",
       "      <th>7</th>\n",
       "      <td>247.04</td>\n",
       "      <td>36.00</td>\n",
       "      <td>126.0</td>\n",
       "      <td>82.22</td>\n",
       "    </tr>\n",
       "    <tr>\n",
       "      <th>8</th>\n",
       "      <td>253.22</td>\n",
       "      <td>27.25</td>\n",
       "      <td>132.0</td>\n",
       "      <td>115.50</td>\n",
       "    </tr>\n",
       "    <tr>\n",
       "      <th>9</th>\n",
       "      <td>258.59</td>\n",
       "      <td>16.00</td>\n",
       "      <td>151.0</td>\n",
       "      <td>126.87</td>\n",
       "    </tr>\n",
       "    <tr>\n",
       "      <th>10</th>\n",
       "      <td>263.29</td>\n",
       "      <td>12.25</td>\n",
       "      <td>174.0</td>\n",
       "      <td>160.31</td>\n",
       "    </tr>\n",
       "    <tr>\n",
       "      <th>11</th>\n",
       "      <td>267.42</td>\n",
       "      <td>9.00</td>\n",
       "      <td>186.0</td>\n",
       "      <td>159.74</td>\n",
       "    </tr>\n",
       "    <tr>\n",
       "      <th>12</th>\n",
       "      <td>271.05</td>\n",
       "      <td>6.25</td>\n",
       "      <td>203.0</td>\n",
       "      <td>215.98</td>\n",
       "    </tr>\n",
       "    <tr>\n",
       "      <th>13</th>\n",
       "      <td>274.24</td>\n",
       "      <td>-1.00</td>\n",
       "      <td>223.0</td>\n",
       "      <td>196.75</td>\n",
       "    </tr>\n",
       "    <tr>\n",
       "      <th>14</th>\n",
       "      <td>277.06</td>\n",
       "      <td>-1.75</td>\n",
       "      <td>238.0</td>\n",
       "      <td>237.24</td>\n",
       "    </tr>\n",
       "    <tr>\n",
       "      <th>15</th>\n",
       "      <td>279.53</td>\n",
       "      <td>-5.00</td>\n",
       "      <td>246.0</td>\n",
       "      <td>217.10</td>\n",
       "    </tr>\n",
       "    <tr>\n",
       "      <th>16</th>\n",
       "      <td>281.69</td>\n",
       "      <td>0.00</td>\n",
       "      <td>259.0</td>\n",
       "      <td>254.34</td>\n",
       "    </tr>\n",
       "    <tr>\n",
       "      <th>17</th>\n",
       "      <td>283.58</td>\n",
       "      <td>0.00</td>\n",
       "      <td>282.0</td>\n",
       "      <td>205.54</td>\n",
       "    </tr>\n",
       "    <tr>\n",
       "      <th>18</th>\n",
       "      <td>285.21</td>\n",
       "      <td>4.00</td>\n",
       "      <td>288.0</td>\n",
       "      <td>238.28</td>\n",
       "    </tr>\n",
       "    <tr>\n",
       "      <th>19</th>\n",
       "      <td>286.62</td>\n",
       "      <td>7.00</td>\n",
       "      <td>304.0</td>\n",
       "      <td>222.52</td>\n",
       "    </tr>\n",
       "    <tr>\n",
       "      <th>20</th>\n",
       "      <td>287.81</td>\n",
       "      <td>11.00</td>\n",
       "      <td>320.0</td>\n",
       "      <td>235.60</td>\n",
       "    </tr>\n",
       "    <tr>\n",
       "      <th>21</th>\n",
       "      <td>288.81</td>\n",
       "      <td>11.00</td>\n",
       "      <td>353.0</td>\n",
       "      <td>208.35</td>\n",
       "    </tr>\n",
       "    <tr>\n",
       "      <th>22</th>\n",
       "      <td>289.63</td>\n",
       "      <td>16.00</td>\n",
       "      <td>353.0</td>\n",
       "      <td>249.94</td>\n",
       "    </tr>\n",
       "    <tr>\n",
       "      <th>23</th>\n",
       "      <td>290.28</td>\n",
       "      <td>21.00</td>\n",
       "      <td>377.0</td>\n",
       "      <td>208.17</td>\n",
       "    </tr>\n",
       "    <tr>\n",
       "      <th>24</th>\n",
       "      <td>290.78</td>\n",
       "      <td>27.00</td>\n",
       "      <td>402.0</td>\n",
       "      <td>260.02</td>\n",
       "    </tr>\n",
       "    <tr>\n",
       "      <th>25</th>\n",
       "      <td>291.13</td>\n",
       "      <td>33.00</td>\n",
       "      <td>402.0</td>\n",
       "      <td>217.63</td>\n",
       "    </tr>\n",
       "    <tr>\n",
       "      <th>26</th>\n",
       "      <td>291.35</td>\n",
       "      <td>39.00</td>\n",
       "      <td>418.0</td>\n",
       "      <td>216.33</td>\n",
       "    </tr>\n",
       "    <tr>\n",
       "      <th>27</th>\n",
       "      <td>291.43</td>\n",
       "      <td>44.00</td>\n",
       "      <td>438.0</td>\n",
       "      <td>208.81</td>\n",
       "    </tr>\n",
       "    <tr>\n",
       "      <th>28</th>\n",
       "      <td>291.40</td>\n",
       "      <td>52.00</td>\n",
       "      <td>452.0</td>\n",
       "      <td>234.50</td>\n",
       "    </tr>\n",
       "    <tr>\n",
       "      <th>29</th>\n",
       "      <td>291.25</td>\n",
       "      <td>60.00</td>\n",
       "      <td>477.0</td>\n",
       "      <td>212.37</td>\n",
       "    </tr>\n",
       "    <tr>\n",
       "      <th>30</th>\n",
       "      <td>291.00</td>\n",
       "      <td>69.00</td>\n",
       "      <td>493.0</td>\n",
       "      <td>241.34</td>\n",
       "    </tr>\n",
       "  </tbody>\n",
       "</table>\n",
       "</div>"
      ],
      "text/plain": [
       "        X1     X2     X3       Y\n",
       "1   173.50  83.00   22.0  169.91\n",
       "2   194.05  74.25   48.0  138.22\n",
       "3   209.37  65.00   56.0   69.01\n",
       "4   221.52  56.25   81.0   72.50\n",
       "5   231.49  45.00   89.0   40.83\n",
       "6   239.88  38.25  100.0   96.49\n",
       "7   247.04  36.00  126.0   82.22\n",
       "8   253.22  27.25  132.0  115.50\n",
       "9   258.59  16.00  151.0  126.87\n",
       "10  263.29  12.25  174.0  160.31\n",
       "11  267.42   9.00  186.0  159.74\n",
       "12  271.05   6.25  203.0  215.98\n",
       "13  274.24  -1.00  223.0  196.75\n",
       "14  277.06  -1.75  238.0  237.24\n",
       "15  279.53  -5.00  246.0  217.10\n",
       "16  281.69   0.00  259.0  254.34\n",
       "17  283.58   0.00  282.0  205.54\n",
       "18  285.21   4.00  288.0  238.28\n",
       "19  286.62   7.00  304.0  222.52\n",
       "20  287.81  11.00  320.0  235.60\n",
       "21  288.81  11.00  353.0  208.35\n",
       "22  289.63  16.00  353.0  249.94\n",
       "23  290.28  21.00  377.0  208.17\n",
       "24  290.78  27.00  402.0  260.02\n",
       "25  291.13  33.00  402.0  217.63\n",
       "26  291.35  39.00  418.0  216.33\n",
       "27  291.43  44.00  438.0  208.81\n",
       "28  291.40  52.00  452.0  234.50\n",
       "29  291.25  60.00  477.0  212.37\n",
       "30  291.00  69.00  493.0  241.34"
      ]
     },
     "execution_count": 406,
     "metadata": {},
     "output_type": "execute_result"
    }
   ],
   "source": [
    "X1 = [173.5, 194.05, 209.37, 221.52, 231.49, 239.88,\n",
    "      247.04, 253.22, 258.59, 263.29, 267.42, 271.05,\n",
    "      274.24, 277.06, 279.53, 281.69, 283.58, 285.21,\n",
    "      286.62, 287.81, 288.81, 289.63, 290.28, 290.78,\n",
    "      291.13, 291.35, 291.43, 291.4, 291.25, 291.00]\n",
    "X2 = [83.0, 74.25, 65.0, 56.25, 45.0, 38.25, 36.0,\n",
    "      27.25, 16.0, 12.25, 9.0, 6.25, -1.0, -1.75,\n",
    "      -5.0, 0.0, 0.0, 4.0, 7.0, 11.0, 11.0, 16.0,\n",
    "      21.0, 27.0, 33.0, 39.0, 44.0, 52.0, 60.0, 69.0]\n",
    "X3 = [22.0, 48.0, 56.0, 81.0, 89.0, 100.0, 126.0, 132.0,\n",
    "      151.0, 174.0, 186.0, 203.0, 223.0, 238.0, 246.0,\n",
    "      259.0, 282.0, 288.0, 304.0, 320.0, 353.0, 353.0, 377.0,\n",
    "      402.0, 402.0, 418.0, 438.0, 452.0, 477.0, 493.0]\n",
    "Y = [169.91, 138.22, 69.01, 72.50, 40.83, 96.49, 82.22, 115.50, \n",
    "     126.87, 160.31, 159.74, 215.98, 196.75, 237.24, 217.10,\n",
    "     254.34, 205.54, 238.28, 222.52, 235.60, 208.35, 249.94, \n",
    "     208.17, 260.02, 217.63, 216.33, 208.81, 234.50, 212.37, 241.34]\n",
    "task3_data = pd.DataFrame({'X1':X1, 'X2':X2, 'X3':X3, 'Y':Y}, \n",
    "                          index=[i for i in range(1, 31)])\n",
    "task3_data"
   ]
  },
  {
   "cell_type": "code",
   "execution_count": 407,
   "metadata": {
    "ExecuteTime": {
     "end_time": "2020-04-28T19:37:43.814213Z",
     "start_time": "2020-04-28T19:37:43.406850Z"
    },
    "hidden": true
   },
   "outputs": [
    {
     "data": {
      "image/png": "[encoded data removed]",
      "text/plain": [
       "<Figure size 432x288 with 2 Axes>"
      ]
     },
     "metadata": {
      "needs_background": "light"
     },
     "output_type": "display_data"
    }
   ],
   "source": [
    "fig = plt.figure()\n",
    "ax = fig.add_subplot(111, projection='3d')\n",
    "img = ax.scatter(X1, X2, X3, c=Y, cmap=plt.hot())\n",
    "ax.set_xlabel('X1')\n",
    "ax.set_ylabel('X2')\n",
    "ax.set_zlabel('X3')\n",
    "fig.colorbar(img)\n",
    "plt.show()"
   ]
  },
  {
   "cell_type": "markdown",
   "metadata": {
    "hidden": true
   },
   "source": [
    "## За МНК знайти оцінки параметрів вибраної моделі"
   ]
  },
  {
   "cell_type": "markdown",
   "metadata": {
    "ExecuteTime": {
     "end_time": "2020-04-27T12:55:54.995530Z",
     "start_time": "2020-04-27T12:55:54.988966Z"
    },
    "hidden": true
   },
   "source": [
    "Розглянемо просту регрессійну модель $f(x_1, x_2) = \\beta_0 + \\beta_1x_1+ \\beta_2x_2 + \\beta_3x_3$."
   ]
  },
  {
   "cell_type": "markdown",
   "metadata": {
    "hidden": true
   },
   "source": [
    "Розглянемо просту регрессійну модель $f(x_1, x_2) = \\beta_0 + \\beta_1x_1+ \\beta_2x_2$.\n",
    "Матриця плану матиме вигляд:\n",
    "\\begin{equation}\n",
    "F = \n",
    "\\begin{pmatrix}\n",
    "        1 & 1 & 1 & \\dots & 1 \\\\\n",
    "        173.5 & 194.05 & 209.37 & \\dots & 291 \\\\\n",
    "        83 & 74.25 & 65 & \\dots & 69 \\\\\n",
    "        22 & 48 & 56 & \\dots & 493 \\\\\n",
    "    \\end{pmatrix}^T\n",
    "\\end{equation}"
   ]
  },
  {
   "cell_type": "code",
   "execution_count": 408,
   "metadata": {
    "ExecuteTime": {
     "end_time": "2020-04-28T19:37:43.822947Z",
     "start_time": "2020-04-28T19:37:43.816121Z"
    },
    "hidden": true
   },
   "outputs": [
    {
     "data": {
      "text/plain": [
       "array([[  1.  , 173.5 ,  83.  ,  22.  ],\n",
       "       [  1.  , 194.05,  74.25,  48.  ],\n",
       "       [  1.  , 209.37,  65.  ,  56.  ],\n",
       "       [  1.  , 221.52,  56.25,  81.  ],\n",
       "       [  1.  , 231.49,  45.  ,  89.  ],\n",
       "       [  1.  , 239.88,  38.25, 100.  ],\n",
       "       [  1.  , 247.04,  36.  , 126.  ],\n",
       "       [  1.  , 253.22,  27.25, 132.  ],\n",
       "       [  1.  , 258.59,  16.  , 151.  ],\n",
       "       [  1.  , 263.29,  12.25, 174.  ],\n",
       "       [  1.  , 267.42,   9.  , 186.  ],\n",
       "       [  1.  , 271.05,   6.25, 203.  ],\n",
       "       [  1.  , 274.24,  -1.  , 223.  ],\n",
       "       [  1.  , 277.06,  -1.75, 238.  ],\n",
       "       [  1.  , 279.53,  -5.  , 246.  ],\n",
       "       [  1.  , 281.69,   0.  , 259.  ],\n",
       "       [  1.  , 283.58,   0.  , 282.  ],\n",
       "       [  1.  , 285.21,   4.  , 288.  ],\n",
       "       [  1.  , 286.62,   7.  , 304.  ],\n",
       "       [  1.  , 287.81,  11.  , 320.  ],\n",
       "       [  1.  , 288.81,  11.  , 353.  ],\n",
       "       [  1.  , 289.63,  16.  , 353.  ],\n",
       "       [  1.  , 290.28,  21.  , 377.  ],\n",
       "       [  1.  , 290.78,  27.  , 402.  ],\n",
       "       [  1.  , 291.13,  33.  , 402.  ],\n",
       "       [  1.  , 291.35,  39.  , 418.  ],\n",
       "       [  1.  , 291.43,  44.  , 438.  ],\n",
       "       [  1.  , 291.4 ,  52.  , 452.  ],\n",
       "       [  1.  , 291.25,  60.  , 477.  ],\n",
       "       [  1.  , 291.  ,  69.  , 493.  ]])"
      ]
     },
     "execution_count": 408,
     "metadata": {},
     "output_type": "execute_result"
    }
   ],
   "source": [
    "F_3 = np.array([[1 for i in range(0,30)], X1, X2, X3]).transpose()\n",
    "F_3"
   ]
  },
  {
   "cell_type": "code",
   "execution_count": 409,
   "metadata": {
    "ExecuteTime": {
     "end_time": "2020-04-28T19:37:43.936483Z",
     "start_time": "2020-04-28T19:37:43.825211Z"
    },
    "hidden": true
   },
   "outputs": [
    {
     "data": {
      "text/plain": [
       "array([[3.00000000e+01, 7.99322000e+03, 8.54750000e+02, 7.69300000e+03],\n",
       "       [7.99322000e+03, 2.15942648e+06, 2.14141928e+05, 2.16280975e+06],\n",
       "       [8.54750000e+02, 2.14141928e+05, 4.32169375e+04, 2.05253000e+05],\n",
       "       [7.69300000e+03, 2.16280975e+06, 2.05253000e+05, 2.53984700e+06]])"
      ]
     },
     "execution_count": 409,
     "metadata": {},
     "output_type": "execute_result"
    }
   ],
   "source": [
    "A_3 = F_3.transpose() @ F_3\n",
    "A_3"
   ]
  },
  {
   "cell_type": "code",
   "execution_count": 410,
   "metadata": {
    "ExecuteTime": {
     "end_time": "2020-04-28T19:37:44.036672Z",
     "start_time": "2020-04-28T19:37:43.938798Z"
    },
    "hidden": true
   },
   "outputs": [
    {
     "data": {
      "text/plain": [
       "array([[ 6.64605107e+01, -2.81140681e-01, -1.66116598e-01,\n",
       "         5.15263429e-02],\n",
       "       [-2.81140681e-01,  1.19313228e-03,  6.97009749e-04,\n",
       "        -2.20787398e-04],\n",
       "       [-1.66116598e-01,  6.97009749e-04,  4.61174246e-04,\n",
       "        -1.27654103e-04],\n",
       "       [ 5.15263429e-02, -2.20787398e-04, -1.27654103e-04,\n",
       "         4.26523207e-05]])"
      ]
     },
     "execution_count": 410,
     "metadata": {},
     "output_type": "execute_result"
    }
   ],
   "source": [
    "A_3_inv = np.linalg.inv(A_3)\n",
    "A_3_inv"
   ]
  },
  {
   "cell_type": "code",
   "execution_count": 411,
   "metadata": {
    "ExecuteTime": {
     "end_time": "2020-04-28T19:37:44.142157Z",
     "start_time": "2020-04-28T19:37:44.038968Z"
    },
    "hidden": true
   },
   "outputs": [
    {
     "data": {
      "text/plain": [
       "array([[169.91],\n",
       "       [138.22],\n",
       "       [ 69.01],\n",
       "       [ 72.5 ],\n",
       "       [ 40.83],\n",
       "       [ 96.49],\n",
       "       [ 82.22],\n",
       "       [115.5 ],\n",
       "       [126.87],\n",
       "       [160.31],\n",
       "       [159.74],\n",
       "       [215.98],\n",
       "       [196.75],\n",
       "       [237.24],\n",
       "       [217.1 ],\n",
       "       [254.34],\n",
       "       [205.54],\n",
       "       [238.28],\n",
       "       [222.52],\n",
       "       [235.6 ],\n",
       "       [208.35],\n",
       "       [249.94],\n",
       "       [208.17],\n",
       "       [260.02],\n",
       "       [217.63],\n",
       "       [216.33],\n",
       "       [208.81],\n",
       "       [234.5 ],\n",
       "       [212.37],\n",
       "       [241.34]])"
      ]
     },
     "execution_count": 411,
     "metadata": {},
     "output_type": "execute_result"
    }
   ],
   "source": [
    "mu_3_vals = task3_data['Y'].to_numpy()\n",
    "mu_3_vals.shape = (30, 1)\n",
    "mu_3_vals"
   ]
  },
  {
   "cell_type": "code",
   "execution_count": 412,
   "metadata": {
    "ExecuteTime": {
     "end_time": "2020-04-28T19:37:44.240065Z",
     "start_time": "2020-04-28T19:37:44.144788Z"
    },
    "hidden": true
   },
   "outputs": [
    {
     "data": {
      "text/plain": [
       "array([[ 1.31498928e+03],\n",
       "       [-5.06946492e+00],\n",
       "       [-3.68609960e+00],\n",
       "       [ 1.26540668e+00]])"
      ]
     },
     "execution_count": 412,
     "metadata": {},
     "output_type": "execute_result"
    }
   ],
   "source": [
    "beta_3_estim = A_3_inv @ F_3.transpose() @ mu_3_vals\n",
    "beta_3_estim"
   ]
  },
  {
   "cell_type": "code",
   "execution_count": 413,
   "metadata": {
    "ExecuteTime": {
     "end_time": "2020-04-28T19:37:44.327490Z",
     "start_time": "2020-04-28T19:37:44.242153Z"
    },
    "hidden": true
   },
   "outputs": [],
   "source": [
    "def regres_t2(x1, x2, x3):\n",
    "    return 1.31498928e+03 - (5.06946492e+00 * x1) - (3.68609960e+00 * x2) + (1.26540668e+00 * x3)"
   ]
  },
  {
   "cell_type": "code",
   "execution_count": null,
   "metadata": {
    "hidden": true
   },
   "outputs": [],
   "source": []
  }
 ],
 "metadata": {
  "kernelspec": {
   "display_name": "Python 3",
   "language": "python",
   "name": "python3"
  },
  "language_info": {
   "codemirror_mode": {
    "name": "ipython",
    "version": 3
   },
   "file_extension": ".py",
   "mimetype": "text/x-python",
   "name": "python",
   "nbconvert_exporter": "python",
   "pygments_lexer": "ipython3",
   "version": "3.6.9"
  },
  "latex_envs": {
   "LaTeX_envs_menu_present": true,
   "autoclose": false,
   "autocomplete": true,
   "bibliofile": "biblio.bib",
   "cite_by": "apalike",
   "current_citInitial": 1,
   "eqLabelWithNumbers": true,
   "eqNumInitial": 1,
   "hotkeys": {
    "equation": "Ctrl-E",
    "itemize": "Ctrl-I"
   },
   "labels_anchors": false,
   "latex_user_defs": false,
   "report_style_numbering": false,
   "user_envs_cfg": false
  },
  "toc": {
   "base_numbering": 1,
   "nav_menu": {},
   "number_sections": true,
   "sideBar": true,
   "skip_h1_title": false,
   "title_cell": "Table of Contents",
   "title_sidebar": "Contents",
   "toc_cell": false,
   "toc_position": {},
   "toc_section_display": true,
   "toc_window_display": false
  },
  "varInspector": {
   "cols": {
    "lenName": 16,
    "lenType": 16,
    "lenVar": 40
   },
   "kernels_config": {
    "python": {
     "delete_cmd_postfix": "",
     "delete_cmd_prefix": "del ",
     "library": "var_list.py",
     "varRefreshCmd": "print(var_dic_list())"
    },
    "r": {
     "delete_cmd_postfix": ") ",
     "delete_cmd_prefix": "rm(",
     "library": "var_list.r",
     "varRefreshCmd": "cat(var_dic_list()) "
    }
   },
   "types_to_exclude": [
    "module",
    "function",
    "builtin_function_or_method",
    "instance",
    "_Feature"
   ],
   "window_display": false
  }
 },
 "nbformat": 4,
 "nbformat_minor": 4
}
